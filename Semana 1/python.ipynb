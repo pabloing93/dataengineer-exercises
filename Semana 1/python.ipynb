{
  "nbformat": 4,
  "nbformat_minor": 0,
  "metadata": {
    "colab": {
      "provenance": []
    },
    "kernelspec": {
      "name": "python3",
      "display_name": "Python 3"
    },
    "language_info": {
      "name": "python"
    }
  },
  "cells": [
    {
      "cell_type": "markdown",
      "source": [
        "# Ejercicio 1"
      ],
      "metadata": {
        "id": "NAng-2hPQ057"
      }
    },
    {
      "cell_type": "code",
      "execution_count": null,
      "metadata": {
        "colab": {
          "base_uri": "https://localhost:8080/"
        },
        "id": "e_cBeyWJNIfy",
        "outputId": "9bf439b3-98fc-4e5f-a0ab-bd8a83821ba0"
      },
      "outputs": [
        {
          "output_type": "stream",
          "name": "stdout",
          "text": [
            "Input an impar number: 2\n",
            "Error also no biggie. Try again!\n",
            "Input an impar number: 66\n",
            "Error also no biggie. Try again!\n",
            "Input an impar number: 3\n",
            "Good job!\n"
          ]
        }
      ],
      "source": [
        "check=False\n",
        "while not check:\n",
        "  n = int(input('Enter an impar number: '))\n",
        "  if (n%2):\n",
        "    print('Good job!')\n",
        "    check = True\n",
        "  else:\n",
        "    print('Error also no biggie. Try again!')"
      ]
    },
    {
      "cell_type": "markdown",
      "source": [
        "# Ejercicio 2\n",
        "\n",
        "Write a program that ask to the user for how many numbers wants to enter. Then the program has to read all numbers and calculate the mean."
      ],
      "metadata": {
        "id": "cvTCaMSwQ2zY"
      }
    },
    {
      "cell_type": "code",
      "source": [
        "n = int(input('How many numbers do you wanna enter?: '))\n",
        "sum = 0\n",
        "for i in range(n):\n",
        "  sum += float(input(f'Please, enter the {i+1}° number: '))\n",
        "mean = sum/n\n",
        "print('The mean is:', mean)"
      ],
      "metadata": {
        "colab": {
          "base_uri": "https://localhost:8080/"
        },
        "id": "EXKq59ylQ4sw",
        "outputId": "2537ed52-2dad-4046-bcac-2ba96caebb1c"
      },
      "execution_count": null,
      "outputs": [
        {
          "output_type": "stream",
          "name": "stdout",
          "text": [
            "How many numbers do you wanna enter?: 5\n",
            "Please, enter the 1° number: 3\n",
            "Please, enter the 2° number: 5\n",
            "Please, enter the 3° number: 2.555\n",
            "Please, enter the 4° number: 4.333\n",
            "Please, enter the 5° number: 10\n",
            "The mean is: 4.9776\n"
          ]
        }
      ]
    },
    {
      "cell_type": "markdown",
      "source": [
        "# Exercise 3\n",
        "\n",
        "Using range() function and list conversion generate dynamically the next lists:\n",
        "- a) [0;10]\n",
        "- b) [-10;0]\n",
        "- c) [0;20] all those par numbers\n",
        "- d) [-20;0] all those impar numbers\n",
        "- e) [0;50] with all those numbers multiple of 5"
      ],
      "metadata": {
        "id": "UmoLT9dNcznW"
      }
    },
    {
      "cell_type": "code",
      "source": [
        "a = [i for i in range(11)]\n",
        "b = [i*-1 for i in range(11)]\n",
        "b.reverse()\n",
        "c = [i*2 for i in range(11) if i != 0]\n",
        "d = [i*-1 for i in range(21) if (i%2 != 0) & (i !=0)]\n",
        "d.reverse()\n",
        "e = [i*5 for i in range(11) if (i != 0)]\n",
        "\n",
        "print('a: ', a)\n",
        "print('b: ', b)\n",
        "print('c: ', c)\n",
        "print('d: ', d)\n",
        "print('e: ', e)\n"
      ],
      "metadata": {
        "colab": {
          "base_uri": "https://localhost:8080/"
        },
        "id": "kOpjKBKOejgM",
        "outputId": "68cad03a-89e9-4aa4-d081-2bc6fe5119e7"
      },
      "execution_count": null,
      "outputs": [
        {
          "output_type": "stream",
          "name": "stdout",
          "text": [
            "a:  [0, 1, 2, 3, 4, 5, 6, 7, 8, 9, 10]\n",
            "b:  [-10, -9, -8, -7, -6, -5, -4, -3, -2, -1, 0]\n",
            "c:  [2, 4, 6, 8, 10, 12, 14, 16, 18, 20]\n",
            "d:  [-19, -17, -15, -13, -11, -9, -7, -5, -3, -1]\n",
            "e:  [5, 10, 15, 20, 25, 30, 35, 40, 45, 50]\n"
          ]
        }
      ]
    },
    {
      "cell_type": "code",
      "source": [
        "a, b, c, d, e = [], [], [], [], []\n",
        "\n",
        "for i in range(11):\n",
        "  a.append(i)\n",
        "  b.append(i*-1)\n",
        "  if (i!=0):\n",
        "    c.append(i*2)\n",
        "    e.append(i*5)\n",
        "\n",
        "b.reverse()\n",
        "d = [i*-1 for i in range(21) if (i%2 != 0) & (i !=0)] #[-20;0]\n",
        "d.reverse()\n",
        "\n",
        "print('a: ', a)\n",
        "print('b: ', b)\n",
        "print('c: ', c)\n",
        "print('d: ', d)\n",
        "print('e: ', e)"
      ],
      "metadata": {
        "colab": {
          "base_uri": "https://localhost:8080/"
        },
        "id": "N94DFnqqxbNk",
        "outputId": "6ec9beb6-115e-49ef-c5cf-4d4e7c233658"
      },
      "execution_count": null,
      "outputs": [
        {
          "output_type": "stream",
          "name": "stdout",
          "text": [
            "a:  [0, 1, 2, 3, 4, 5, 6, 7, 8, 9, 10]\n",
            "b:  [-10, -9, -8, -7, -6, -5, -4, -3, -2, -1, 0]\n",
            "c:  [2, 4, 6, 8, 10, 12, 14, 16, 18, 20]\n",
            "d:  [-19, -17, -15, -13, -11, -9, -7, -5, -3, -1]\n",
            "e:  [5, 10, 15, 20, 25, 30, 35, 40, 45, 50]\n"
          ]
        }
      ]
    },
    {
      "cell_type": "markdown",
      "source": [
        "# Exercise 4\n",
        "\n",
        "Given two lists A and B, create a new list C with the elements in common in list A and list B. Return C also without duplicated elements."
      ],
      "metadata": {
        "id": "VfkTHFIT1RTb"
      }
    },
    {
      "cell_type": "code",
      "source": [
        "a = ['a', 'b', 'c', 'd', 'e', 'f', 'f']\n",
        "b = ['g', 'h', 'i', 'j', 'k', 'a', 'b', 'b', 'c']\n",
        "\n",
        "list(set(a) & set(b))"
      ],
      "metadata": {
        "colab": {
          "base_uri": "https://localhost:8080/"
        },
        "id": "rJkp9jQce44F",
        "outputId": "17c9bb72-3a31-4c40-9ba0-f5495724aab2"
      },
      "execution_count": null,
      "outputs": [
        {
          "output_type": "execute_result",
          "data": {
            "text/plain": [
              "['c', 'b', 'a']"
            ]
          },
          "metadata": {},
          "execution_count": 68
        }
      ]
    },
    {
      "cell_type": "markdown",
      "source": [
        "# Exercise 5\n",
        "Write a code that does the summary of all integer impair numbers from 0 to 100\n"
      ],
      "metadata": {
        "id": "OiDqG1Cgy2rz"
      }
    },
    {
      "cell_type": "code",
      "source": [
        "sum = 0\n",
        "impair = 1\n",
        "for i in range(101):\n",
        "  if (i%2 == impair):\n",
        "    sum += i\n",
        "sum"
      ],
      "metadata": {
        "colab": {
          "base_uri": "https://localhost:8080/"
        },
        "id": "L1tS5P7hzTEl",
        "outputId": "18505432-7ef9-44cc-dac0-9da5709f8ee0"
      },
      "execution_count": null,
      "outputs": [
        {
          "output_type": "execute_result",
          "data": {
            "text/plain": [
              "2500"
            ]
          },
          "metadata": {},
          "execution_count": 13
        }
      ]
    },
    {
      "cell_type": "markdown",
      "source": [
        "# Exercise 6\n",
        "\n",
        "Count how many times a list has an element given"
      ],
      "metadata": {
        "id": "Ptfk6Fi71Ana"
      }
    },
    {
      "cell_type": "code",
      "source": [
        "a = ['a', 'f', 'b', 'c', 'd', 'e', 'f', 'f', 'f']\n",
        "\n",
        "a.count('f')"
      ],
      "metadata": {
        "colab": {
          "base_uri": "https://localhost:8080/"
        },
        "id": "IIAMw4FS1XwF",
        "outputId": "31c20438-2491-40ec-f83c-75dcee7a430b"
      },
      "execution_count": null,
      "outputs": [
        {
          "output_type": "execute_result",
          "data": {
            "text/plain": [
              "4"
            ]
          },
          "metadata": {},
          "execution_count": 18
        }
      ]
    }
  ]
}